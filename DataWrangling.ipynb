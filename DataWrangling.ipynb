{
 "cells": [
  {
   "cell_type": "code",
   "execution_count": 1,
   "metadata": {},
   "outputs": [
    {
     "name": "stdout",
     "output_type": "stream",
     "text": [
      "Hello, world.\n",
      "[1 2 3]\n"
     ]
    }
   ],
   "source": [
    "#Email code to mbroadnax@iq.harvard.edu\n",
    "import numpy as np\n",
    "\n",
    "hello = 'Hello, world.'\n",
    "print( hello )\n",
    "\n",
    "#one-dimensional array\n",
    "arr1 = np.array( [1, 2, 3] )\n",
    "print( arr1 ) "
   ]
  },
  {
   "cell_type": "code",
   "execution_count": 31,
   "metadata": {},
   "outputs": [
    {
     "name": "stdout",
     "output_type": "stream",
     "text": [
      "[[1 2]\n",
      " [3 4]]\n"
     ]
    }
   ],
   "source": [
    "#two-dimensional array\n",
    "arr2 = np.array( [ [1,2], [3,4] ] )\n",
    "print( arr2 )"
   ]
  },
  {
   "cell_type": "code",
   "execution_count": 23,
   "metadata": {},
   "outputs": [
    {
     "name": "stdout",
     "output_type": "stream",
     "text": [
      "[[[1 2 3 4 5 6]]]\n"
     ]
    }
   ],
   "source": [
    "#specify the number of dimensions\n",
    "arr3 = np.array( [1, 2, 3, 4, 5, 6], ndmin = 3 )\n",
    "print( arr3 )"
   ]
  },
  {
   "cell_type": "code",
   "execution_count": 12,
   "metadata": {},
   "outputs": [
    {
     "name": "stdout",
     "output_type": "stream",
     "text": [
      "[[[1. 2. 3. 4. 5. 6.]]]\n"
     ]
    }
   ],
   "source": [
    "arr_float = np.array( arr3, dtype = float )\n",
    "print( arr_float )"
   ]
  },
  {
   "cell_type": "code",
   "execution_count": 18,
   "metadata": {},
   "outputs": [
    {
     "name": "stdout",
     "output_type": "stream",
     "text": [
      "[False  True False  True]\n"
     ]
    }
   ],
   "source": [
    "arr_bool = np.array( [0, 1, 0, 1], dtype = bool )\n",
    "print( arr_bool )"
   ]
  },
  {
   "cell_type": "code",
   "execution_count": 19,
   "metadata": {},
   "outputs": [
    {
     "name": "stdout",
     "output_type": "stream",
     "text": [
      "[[[1 2 3 4 5 6]]]\n",
      "(1, 1, 6)\n"
     ]
    }
   ],
   "source": [
    "#get the array dimensions\n",
    "print( arr3 )\n",
    "print( arr3.shape )"
   ]
  },
  {
   "cell_type": "code",
   "execution_count": 29,
   "metadata": {},
   "outputs": [
    {
     "name": "stdout",
     "output_type": "stream",
     "text": [
      "[[1 2]\n",
      " [3 4]]\n",
      "[[1 2]\n",
      " [3 4]]\n",
      "(2, 2) \n",
      "\n",
      "[[1]\n",
      " [2]\n",
      " [3]\n",
      " [4]]\n",
      "(4, 1)\n"
     ]
    }
   ],
   "source": [
    "#resize an array using the .shape attribute\n",
    "arr4 = np.array( arr2 )\n",
    "print( arr4 )\n",
    "print( arr4.shape, '\\n' )\n",
    "\n",
    "arr4.shape = (4, 1)\n",
    "print( arr4 )\n",
    "print( arr4.shape )"
   ]
  },
  {
   "cell_type": "code",
   "execution_count": 57,
   "metadata": {},
   "outputs": [],
   "source": [
    "#Need to Fix\n",
    "#arr5 = arr2.reshape( 4, 1 )\n",
    "#print( arr5 )"
   ]
  },
  {
   "cell_type": "code",
   "execution_count": 36,
   "metadata": {},
   "outputs": [
    {
     "name": "stdout",
     "output_type": "stream",
     "text": [
      "[ 1  2  3  4  5  6  7  8  9 10 11 12 13 14 15 16 17 18 19]\n",
      "[ 1.          1.3877551   1.7755102   2.16326531  2.55102041  2.93877551\n",
      "  3.32653061  3.71428571  4.10204082  4.48979592  4.87755102  5.26530612\n",
      "  5.65306122  6.04081633  6.42857143  6.81632653  7.20408163  7.59183673\n",
      "  7.97959184  8.36734694  8.75510204  9.14285714  9.53061224  9.91836735\n",
      " 10.30612245 10.69387755 11.08163265 11.46938776 11.85714286 12.24489796\n",
      " 12.63265306 13.02040816 13.40816327 13.79591837 14.18367347 14.57142857\n",
      " 14.95918367 15.34693878 15.73469388 16.12244898 16.51020408 16.89795918\n",
      " 17.28571429 17.67346939 18.06122449 18.44897959 18.83673469 19.2244898\n",
      " 19.6122449  20.        ]\n",
      "[1, 2, 3, 4]\n",
      "[1 2 3 4]\n"
     ]
    }
   ],
   "source": [
    "x = np.arange( 1, 20 )\n",
    "print( x )\n",
    "\n",
    "y = np.linspace( 1, 20 )\n",
    "print( y )\n",
    "\n",
    "xnum = [ 1, 2, 3, 4 ]\n",
    "xnum_arr = np.asarray( xnum )\n",
    "print( xnum_arr )"
   ]
  },
  {
   "cell_type": "code",
   "execution_count": 37,
   "metadata": {},
   "outputs": [
    {
     "name": "stdout",
     "output_type": "stream",
     "text": [
      "[ 5  7  9 11 13 15 17 19 21 23 25 27 29]\n",
      "[ 5  7  9 11 13]\n",
      "[ 9 11 13]\n",
      "[19 21 23 25 27 29]\n",
      "[29 27 25 23 21 19 17 15 13 11  9  7  5]\n"
     ]
    }
   ],
   "source": [
    "#Slicing a 1D Array -> Create a slice using colons [start:stop:step]\n",
    "a = np.arange( 5, 30, 2 )\n",
    "print( a )\n",
    "print( a[:5] )\n",
    "print( a[2:5] )\n",
    "print( a[7:] )\n",
    "\n",
    "#reverses the array\n",
    "print( a[::-1] )\n"
   ]
  },
  {
   "cell_type": "code",
   "execution_count": 38,
   "metadata": {},
   "outputs": [
    {
     "name": "stdout",
     "output_type": "stream",
     "text": [
      "[[ 1  2  3  4  5]\n",
      " [ 2  4  6  8 10]\n",
      " [ 3  6  9 12 15]\n",
      " [ 5 10 15 20 25]\n",
      " [ 6 12 18 24 30]] \n",
      "\n"
     ]
    }
   ],
   "source": [
    "#Slicing a 2D Array \n",
    "b = np.array( [ [1, 2, 3, 4, 5], \n",
    "                [2, 4, 6, 8, 10],\n",
    "                [3, 6, 9, 12, 15],\n",
    "                [5, 10, 15, 20, 25], \n",
    "                [6, 12, 18, 24, 30] ] )\n",
    "print( b, '\\n' )"
   ]
  },
  {
   "cell_type": "code",
   "execution_count": 39,
   "metadata": {},
   "outputs": [
    {
     "name": "stdout",
     "output_type": "stream",
     "text": [
      "[[ 1  2  3  4]\n",
      " [ 2  4  6  8]\n",
      " [ 3  6  9 12]]\n",
      "[[1 2]\n",
      " [2 4]\n",
      " [3 6]]\n",
      "[[  1   2   3   4]\n",
      " [100   4   6   8]\n",
      " [  3   6   9  12]]\n",
      "[[  1   2]\n",
      " [100   4]\n",
      " [  3   6]]\n"
     ]
    }
   ],
   "source": [
    "#Modifying an array element - Arrays have a fixed type, so if you assign a value with a different type, you may end up with unexpected behavior\n",
    "k = np.array( [ [1, 2, 3, 4], [2, 4, 6, 8], [3, 6, 9, 12] ] ) \n",
    "\n",
    "ksub = k[:3, :2]\n",
    "print( k )\n",
    "print( ksub ) \n",
    "\n",
    "#modify a value\n",
    "ksub[1, 0] = 100\n",
    "print( k )\n",
    "print( ksub )\n",
    "    "
   ]
  },
  {
   "cell_type": "code",
   "execution_count": 41,
   "metadata": {},
   "outputs": [
    {
     "name": "stdout",
     "output_type": "stream",
     "text": [
      "[ 9 18 27 36 10 20 30 40]\n",
      "[ 9 18 27 36 10 20 30 40  7 14 21 28]\n",
      "[[ 9 18 27 36]\n",
      " [10 20 30 40]\n",
      " [ 7 14 21 28]]\n",
      "[ 9 18 27 36 10 20 30 40  7 14 21 28]\n"
     ]
    }
   ],
   "source": [
    "#Combining Arrays\n",
    "m = np.array( [9, 18, 27, 36] )\n",
    "n = np.array( [10, 20,30, 40] )\n",
    "o = np.array( [7, 14, 21, 28] )\n",
    "\n",
    "print( np.concatenate( [m,n] ) )\n",
    "print( np.concatenate( [m,n,o] ) )\n",
    "\n",
    "print(np.vstack( [m,n,o] ) )\n",
    "print(np.hstack( [m,n,o] ) )"
   ]
  },
  {
   "cell_type": "code",
   "execution_count": 42,
   "metadata": {},
   "outputs": [
    {
     "name": "stdout",
     "output_type": "stream",
     "text": [
      "r = [0 1 2 3 4 5 6 7]\n",
      "r + 10 = [10 11 12 13 14 15 16 17]\n",
      "r / 2 = [0.  0.5 1.  1.5 2.  2.5 3.  3.5]\n"
     ]
    }
   ],
   "source": [
    "#Numpy Mathmatical Operations\n",
    "r = np.arange( 8 )\n",
    "print( \"r =\", r )\n",
    "print( \"r + 10 =\", r + 10 )\n",
    "print( \"r / 2 =\", r / 2 )"
   ]
  },
  {
   "cell_type": "code",
   "execution_count": 46,
   "metadata": {},
   "outputs": [
    {
     "name": "stdout",
     "output_type": "stream",
     "text": [
      "1.32 µs ± 16.9 ns per loop (mean ± std. dev. of 7 runs, 1000000 loops each)\n",
      "100\n",
      "8.97 µs ± 74.5 ns per loop (mean ± std. dev. of 7 runs, 100000 loops each)\n",
      "100\n"
     ]
    }
   ],
   "source": [
    "s = np.arange( 100 )\n",
    "\n",
    "def div_by_2( array ):\n",
    "    v = np.empty( len( array ) )\n",
    "    for i in range( len( array ) ):\n",
    "        v[i] = i / 2\n",
    "    return v\n",
    "\n",
    "r2 = div_by_2( r )\n",
    "#print( r2 )\n",
    "\n",
    "%timeit s2_numpy = s / 2\n",
    "print( len( s2_numpy ) )\n",
    "\n",
    "%timeit s2_loop = div_by_2( s )\n",
    "print( len( s2_loop ) )\n"
   ]
  },
  {
   "cell_type": "code",
   "execution_count": 48,
   "metadata": {},
   "outputs": [
    {
     "name": "stdout",
     "output_type": "stream",
     "text": [
      "499.969718279826\n",
      "(0.0005134403467200732, 0.9977800027147741)\n",
      "[[0.85527627 0.33391885 0.21618135 0.75981813]\n",
      " [0.59812825 0.75251153 0.46261861 0.55677371]\n",
      " [0.10679275 0.22080519 0.81500449 0.61958448]] \n",
      "\n",
      "[1.56019727 1.30723557 1.49380446 1.93617632]\n",
      "[2.1651946  2.3700321  1.76218691]\n"
     ]
    }
   ],
   "source": [
    "#Summary Statistics\n",
    "X = np.random.random( 1000 )\n",
    "print( np.sum( X ) )\n",
    "x_range = ( X.min( ), X.max( ) )\n",
    "print( x_range )\n",
    "\n",
    "Y = np.random.random( ( 3, 4 ) ) \n",
    "print( Y, '\\n' )\n",
    "\n",
    "print( Y.sum( axis = 0 ) ) #columns\n",
    "print( Y.sum( axis = 1 ) ) #axis is the dimension to collapse"
   ]
  },
  {
   "cell_type": "code",
   "execution_count": 56,
   "metadata": {},
   "outputs": [
    {
     "name": "stdout",
     "output_type": "stream",
     "text": [
      "[2 8 2 7 4 4 1 7 7 5 9 5 1 3 1 4 6 4 3 9 1 6 9 8 7 2 2 7 3 4 3 1 4 5 2 8 1\n",
      " 3 5 1 9 9 6 4 1 5 3 3 3 7 9 9 5 8 1 9 7 3 2 1 5 7 6 5 6 2 6 3 4 9 2 4 5 1\n",
      " 6 9 3 3 8 7 9 2 8 8 5 5 5 6 9 8 4 3 2 2 2 4 6 6 5 5]\n",
      " mean = 4.83\n",
      " variance = 6.541100000000001\n",
      " standard deviation = 2.5575574284852336\n",
      " median = 5.0\n"
     ]
    }
   ],
   "source": [
    "num_values = 100 \n",
    "array = np.random.randint( 1, 10, num_values, dtype = int )\n",
    "print( array )\n",
    "\n",
    "print( \" mean =\", np.mean( array ) )\n",
    "print( \" variance =\", np.var( array ) )\n",
    "print( \" standard deviation =\", np.std( array ) )\n",
    "print( \" median =\", np.median( array ) )"
   ]
  }
 ],
 "metadata": {
  "kernelspec": {
   "display_name": "Python 3",
   "language": "python",
   "name": "python3"
  },
  "language_info": {
   "codemirror_mode": {
    "name": "ipython",
    "version": 3
   },
   "file_extension": ".py",
   "mimetype": "text/x-python",
   "name": "python",
   "nbconvert_exporter": "python",
   "pygments_lexer": "ipython3",
   "version": "3.6.5"
  }
 },
 "nbformat": 4,
 "nbformat_minor": 2
}
