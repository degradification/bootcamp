{
 "cells": [
  {
   "cell_type": "markdown",
   "metadata": {},
   "source": [
    "# Computer and Internet Use, from 1994 to 2015\n",
    "Dalton Grady<br/>\n",
    "June 5, 2018"
   ]
  },
  {
   "cell_type": "markdown",
   "metadata": {},
   "source": [
    "## Background\n",
    "The topic for my project is revolved around Computer and Internet Use in the United States from 1994 to 2015.\n",
    "\n",
    "From studying this data I hope to learn generally how many people in the US have internet access in their homes versus how many do not, and what the main reasons are that households do not have internet access. \n",
    "\n",
    "The source of this information is from the National Telecommunications and Information Administration, and includes variables, such as if the surveyee is a householder, if their age is over 15 years old, if they use the internet at home, school or work, if the surveyee has wired high-speed internet service, works online, and then looks at various reasons as to why a household may not be online, such as being able to use internet elsewhere, not needing it at home, too expensive, and other variables. \n"
   ]
  },
  {
   "cell_type": "markdown",
   "metadata": {},
   "source": [
    "## Data\n",
    "From the data provided I am more interested in particular variables rather than their relationships with other variables even though many go hand in hand, because I am more interested in how the particular variables have changed throughout the years.  \n",
    "\n",
    "The variables I am focusing on are the total home internet users over the years in both the US and each state respectively. Additionally I am covering the amount of total people who use text messaging or instant messaging, and seeing the change over years.  "
   ]
  },
  {
   "cell_type": "code",
   "execution_count": 1,
   "metadata": {},
   "outputs": [
    {
     "name": "stdout",
     "output_type": "stream",
     "text": [
      "    dataset          variable    usCount   CACount  MACount\n",
      "17   Dec-98  homeInternetUser   57702119   7363861  1552784\n",
      "33   Aug-00  homeInternetUser   94362619  11576973  2435359\n",
      "53   Sep-01  homeInternetUser  116352818  13801785  2943721\n",
      "75   Oct-03  homeInternetUser  129643445  15852182  3279637\n",
      "119  Oct-10  homeInternetUser  190020533  22860497  4706513\n",
      "149  Jul-11  homeInternetUser  187950363  22144657  4468574\n",
      "174  Oct-12  homeInternetUser  205499861  24609471  4809220\n",
      "217  Jul-13  homeInternetUser  195520693  23759901  4695527\n",
      "278  Jul-15  homeInternetUser  206763854  24783503  4662113\n",
      "            usCount       CACount       MACount\n",
      "count  9.000000e+00  9.000000e+00  9.000000e+00\n",
      "mean   1.537574e+08  1.852809e+07  3.728161e+06\n",
      "std    5.528365e+07  6.497990e+06  1.209455e+06\n",
      "min    5.770212e+07  7.363861e+06  1.552784e+06\n",
      "25%    1.163528e+08  1.380178e+07  2.943721e+06\n",
      "50%    1.879504e+08  2.214466e+07  4.468574e+06\n",
      "75%    1.955207e+08  2.375990e+07  4.695527e+06\n",
      "max    2.067639e+08  2.478350e+07  4.809220e+06\n"
     ]
    }
   ],
   "source": [
    "#Parameter is proprotion edit the background and compare counts, which is the mean\n",
    "#Importing the necessary librarys\n",
    "import pandas as pd\n",
    "import numpy as np\n",
    "\n",
    "#Slicing out the other variables besides home internet users & printing out the total US count the California count and Massachusetts count\n",
    "df =  pd.read_csv( \"ntia_computer_usage.csv\" )\n",
    "home_internet_users = df[df['variable'] == 'homeInternetUser']\n",
    "data_home = home_internet_users.loc[:, ['dataset','variable','usCount','CACount','MACount']]\n",
    "print( data_home )\n",
    "print( pd.DataFrame.describe( data_home ) )"
   ]
  },
  {
   "cell_type": "code",
   "execution_count": null,
   "metadata": {},
   "outputs": [],
   "source": [
    "\n",
    "\n",
    "\n",
    "\n",
    "\n"
   ]
  },
  {
   "cell_type": "markdown",
   "metadata": {},
   "source": [
    "## Analysis"
   ]
  },
  {
   "cell_type": "markdown",
   "metadata": {},
   "source": [
    "## Conclusion"
   ]
  }
 ],
 "metadata": {
  "kernelspec": {
   "display_name": "Python 3",
   "language": "python",
   "name": "python3"
  },
  "language_info": {
   "codemirror_mode": {
    "name": "ipython",
    "version": 3
   },
   "file_extension": ".py",
   "mimetype": "text/x-python",
   "name": "python",
   "nbconvert_exporter": "python",
   "pygments_lexer": "ipython3",
   "version": "3.6.5"
  }
 },
 "nbformat": 4,
 "nbformat_minor": 2
}
